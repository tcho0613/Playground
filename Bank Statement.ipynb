{
 "cells": [
  {
   "cell_type": "code",
   "execution_count": 192,
   "id": "canadian-auditor",
   "metadata": {},
   "outputs": [
    {
     "name": "stdout",
     "output_type": "stream",
     "text": [
      "  Transaction Date   Post Date            Description      Category  Type  \\\n",
      "0       11/09/2021  11/10/2021  DD DOORDASH BB.QCHICK  Food & Drink  Sale   \n",
      "1       11/09/2021  11/10/2021  DD DOORDASH SHINCHONS  Food & Drink  Sale   \n",
      "2       11/09/2021  11/10/2021          CHIPOTLE 0913  Food & Drink  Sale   \n",
      "3       11/08/2021  11/09/2021   Amazon.com*Q834H34N3      Shopping  Sale   \n",
      "4       11/08/2021  11/09/2021  DD DOORDASH BCDTOFUHO  Food & Drink  Sale   \n",
      "\n",
      "   Amount  \n",
      "0  -42.15  \n",
      "1  -18.68  \n",
      "2  -11.44  \n",
      "3  -37.21  \n",
      "4  -19.73  \n"
     ]
    }
   ],
   "source": [
    "import pandas as pd\n",
    "import numpy as np\n",
    "from nltk.tokenize import word_tokenize\n",
    "from sklearn.feature_extraction.text import TfidfVectorizer\n",
    "import re\n",
    "import seaborn as sns\n",
    "\n",
    "df = pd.read_csv('statement.CSV')\n",
    "df = df.drop(['Memo'],axis=1)\n",
    "print(df.head())\n",
    "lists = []\n",
    "amount = [amount1,amount2,amount3,amount4,amount5]\n",
    "amount = [0,0,0,0,0]"
   ]
  },
  {
   "cell_type": "code",
   "execution_count": 193,
   "id": "roman-trinidad",
   "metadata": {},
   "outputs": [],
   "source": [
    "def remove_noise(txt, delimiter = []):\n",
    "    tks = word_tokenize(txt)\n",
    "    cleaned = []\n",
    "    for tk in tks:\n",
    "        tk = re.sub('[^A-Za-z0-9]+','',tk)\n",
    "        if len(tk) > 1 and tk.lower() not in delimiter:\n",
    "            cleaned.append(tk.lower())\n",
    "    return cleaned\n",
    "  \n",
    "for element in df['Description']:\n",
    "    templists = remove_noise(element)\n",
    "    for x in range(len(templists)):\n",
    "        lists.append(templists[x])\n",
    "        \n"
   ]
  },
  {
   "cell_type": "code",
   "execution_count": 194,
   "id": "theoretical-admission",
   "metadata": {},
   "outputs": [
    {
     "data": {
      "text/html": [
       "<div>\n",
       "<style scoped>\n",
       "    .dataframe tbody tr th:only-of-type {\n",
       "        vertical-align: middle;\n",
       "    }\n",
       "\n",
       "    .dataframe tbody tr th {\n",
       "        vertical-align: top;\n",
       "    }\n",
       "\n",
       "    .dataframe thead th {\n",
       "        text-align: right;\n",
       "    }\n",
       "</style>\n",
       "<table border=\"1\" class=\"dataframe\">\n",
       "  <thead>\n",
       "    <tr style=\"text-align: right;\">\n",
       "      <th></th>\n",
       "      <th>Name</th>\n",
       "      <th>Counts</th>\n",
       "    </tr>\n",
       "  </thead>\n",
       "  <tbody>\n",
       "    <tr>\n",
       "      <th>0</th>\n",
       "      <td>doordash</td>\n",
       "      <td>22</td>\n",
       "    </tr>\n",
       "    <tr>\n",
       "      <th>1</th>\n",
       "      <td>amzn</td>\n",
       "      <td>10</td>\n",
       "    </tr>\n",
       "    <tr>\n",
       "      <th>2</th>\n",
       "      <td>ralphs</td>\n",
       "      <td>4</td>\n",
       "    </tr>\n",
       "    <tr>\n",
       "      <th>3</th>\n",
       "      <td>chipotle</td>\n",
       "      <td>4</td>\n",
       "    </tr>\n",
       "    <tr>\n",
       "      <th>4</th>\n",
       "      <td>pokeme</td>\n",
       "      <td>4</td>\n",
       "    </tr>\n",
       "  </tbody>\n",
       "</table>\n",
       "</div>"
      ],
      "text/plain": [
       "       Name  Counts\n",
       "0  doordash      22\n",
       "1      amzn      10\n",
       "2    ralphs       4\n",
       "3  chipotle       4\n",
       "4    pokeme       4"
      ]
     },
     "execution_count": 194,
     "metadata": {},
     "output_type": "execute_result"
    }
   ],
   "source": [
    "# construct a new dataframe from value_counts() where counts is larger than \n",
    "newdf = pd.DataFrame(lists).value_counts().loc[lambda x : x>3].rename_axis('Name').reset_index(name='Counts')\n",
    "# drop equivalents such as amzn = mktp, hopefully we can do this process with an NLP algorithm\n",
    "newdf = newdf.drop(newdf.index[[0,2,3,7,9,10]])\n",
    "# reset the index\n",
    "newdf = newdf.reset_index(drop = True)\n",
    "newdf"
   ]
  },
  {
   "cell_type": "code",
   "execution_count": 195,
   "id": "convertible-decade",
   "metadata": {},
   "outputs": [
    {
     "data": {
      "image/png": "[encoded data removed]",
      "text/plain": [
       "<Figure size 432x288 with 1 Axes>"
      ]
     },
     "metadata": {
      "needs_background": "light"
     },
     "output_type": "display_data"
    }
   ],
   "source": [
    "# a bar graph to start us off!\n",
    "# we get that doordash has the highest number of orders, but we didn't consider how much each charge is yet.\n",
    "ax = sns.barplot(x=\"Name\", y=\"Counts\", data=newdf)"
   ]
  },
  {
   "cell_type": "code",
   "execution_count": 196,
   "id": "professional-queens",
   "metadata": {},
   "outputs": [],
   "source": [
    "# for each vendor name in newdf, I want to sum the price($) of the itemized charge that matches the string value.\n",
    "# for instance, if rows 20,25, and 66 contains the string 'DOORDASH', then I'll add the respective prices from those,\n",
    "# sum the charges from rows 20, 25, and 66 then divide by 3 to compute the average for that category.\n",
    "for i in range(len(newdf)):\n",
    "    for j in range(len(df[df['Description'].str.contains(newdf['Name'].iloc[i].upper())])):\n",
    "        amount[i] += df[df['Description'].str.contains(newdf['Name'].iloc[i].upper())]['Amount'].iloc[j]\n",
    "    amount[i] = abs(amount[i])\n",
    "    amount[i] = amount[i]/len(df[df['Description'].str.contains(newdf['Name'].iloc[i].upper())]['Amount'].index)\n",
    "    amount[i] = round(amount[i])"
   ]
  },
  {
   "cell_type": "code",
   "execution_count": 197,
   "id": "artistic-delight",
   "metadata": {},
   "outputs": [],
   "source": [
    "newdf = newdf.reset_index(drop = True)\n",
    "for i in range(len(newdf)):\n",
    "    newdf.loc[i,'Counts'] = newdf['Counts'].iloc[i]*amount[i]"
   ]
  },
  {
   "cell_type": "code",
   "execution_count": 198,
   "id": "hindu-fighter",
   "metadata": {},
   "outputs": [
    {
     "data": {
      "image/png": "[encoded data removed]",
      "text/plain": [
       "<Figure size 432x288 with 1 Axes>"
      ]
     },
     "metadata": {
      "needs_background": "light"
     },
     "output_type": "display_data"
    }
   ],
   "source": [
    "# now we have the weighted distribution of each charge, leading to the conclusion that Amazon orders actually have\n",
    "# the highest distribution!\n",
    "ax = sns.barplot(x=\"Name\", y=\"Counts\", data=newdf)"
   ]
  },
  {
   "cell_type": "code",
   "execution_count": null,
   "id": "timely-grocery",
   "metadata": {},
   "outputs": [],
   "source": []
  }
 ],
 "metadata": {
  "kernelspec": {
   "display_name": "Python 3",
   "language": "python",
   "name": "python3"
  },
  "language_info": {
   "codemirror_mode": {
    "name": "ipython",
    "version": 3
   },
   "file_extension": ".py",
   "mimetype": "text/x-python",
   "name": "python",
   "nbconvert_exporter": "python",
   "pygments_lexer": "ipython3",
   "version": "3.8.2"
  }
 },
 "nbformat": 4,
 "nbformat_minor": 5
}
